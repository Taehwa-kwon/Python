{
 "cells": [
  {
   "cell_type": "code",
   "execution_count": 1,
   "metadata": {},
   "outputs": [],
   "source": [
    "import os\n",
    "import urllib.request"
   ]
  },
  {
   "cell_type": "code",
   "execution_count": null,
   "metadata": {},
   "outputs": [
    {
     "name": "stdout",
     "output_type": "stream",
     "text": [
      "fhv_tripdata_2015-01.csv\n",
      "0 https://s3.amazonaws.com/nyc-tlc/trip+data/fhv_tripdata_2015-01.csv\n",
      "\n",
      "../data\\fhv_tripdata_2015-01.csv\n"
     ]
    }
   ],
   "source": [
    "with open('../data/raw_data_urls.txt','r') as data_urls: #파일경로와 , r = read  / w = write\n",
    "    for line, url in enumerate(data_urls):   # enumerate 는 순서와 리스트를 전달함 \n",
    "        if line == 2:\n",
    "            break\n",
    "        fn = url.split('/')[-1].strip()  #[-1] 맨 끝에 파일명만 가져오기 위해서 . #strip() 공백제거\n",
    "        print(fn)\n",
    "        print(line,url)\n",
    "        fp = os.path.join('','../data',fn) #fn=파일이름       os.path.join경로를 새로 지정해준다.\n",
    "        print(fp)\n",
    "        urllib.request.urlretrieve(url,fp) #urlretrieve 는 다운로드를 바로 받게 만들어준다. 다운로드파일,경로"
   ]
  },
  {
   "cell_type": "code",
   "execution_count": null,
   "metadata": {},
   "outputs": [],
   "source": [
    "import pandas as pd \n",
    "fhv_data = pd.read_csv('../data/fhv_tripdata_2015-01.csv')"
   ]
  },
  {
   "cell_type": "code",
   "execution_count": null,
   "metadata": {},
   "outputs": [],
   "source": [
    "fhv_data.info()"
   ]
  },
  {
   "cell_type": "code",
   "execution_count": null,
   "metadata": {},
   "outputs": [],
   "source": [
    "import glob"
   ]
  },
  {
   "cell_type": "code",
   "execution_count": null,
   "metadata": {},
   "outputs": [],
   "source": [
    "nyc_taxi_data  = glob.glob('../data/fhv_*.csv') #뉴욕시티 택시 데이터  #뒤쪽으로든 뭐가 오든 상관없기 때문에 * 확장자도 아무거나 와도되면 /fhv_* 이렇게 하면됌\n",
    "#경로를 읽어옴"
   ]
  },
  {
   "cell_type": "code",
   "execution_count": null,
   "metadata": {},
   "outputs": [],
   "source": [
    "nyc_taxi_data"
   ]
  },
  {
   "cell_type": "code",
   "execution_count": null,
   "metadata": {},
   "outputs": [],
   "source": [
    "for path in nyc_taxi_data:\n",
    "    print(path)\n",
    "    fhv_data = pd.read_csv(path)\n",
    "    print(fhv_data)"
   ]
  },
  {
   "cell_type": "code",
   "execution_count": null,
   "metadata": {},
   "outputs": [],
   "source": [
    "taxi = []\n",
    "for path in nyc_taxi_data:\n",
    "    df = pd.read_csv(path)\n",
    "    taxi.append(df)"
   ]
  },
  {
   "cell_type": "code",
   "execution_count": null,
   "metadata": {},
   "outputs": [],
   "source": [
    "taxi_concat = pd.concat(taxi)"
   ]
  },
  {
   "cell_type": "code",
   "execution_count": null,
   "metadata": {},
   "outputs": [],
   "source": [
    "taxi_concat.reset_index(drop=False) # index가 하나더 들어온다"
   ]
  },
  {
   "cell_type": "code",
   "execution_count": null,
   "metadata": {},
   "outputs": [],
   "source": [
    "taxi_concat.reset_index(drop=True,inplace=True) "
   ]
  }
 ],
 "metadata": {
  "kernelspec": {
   "display_name": "Python 3",
   "language": "python",
   "name": "python3"
  },
  "language_info": {
   "codemirror_mode": {
    "name": "ipython",
    "version": 3
   },
   "file_extension": ".py",
   "mimetype": "text/x-python",
   "name": "python",
   "nbconvert_exporter": "python",
   "pygments_lexer": "ipython3",
   "version": "3.8.3"
  }
 },
 "nbformat": 4,
 "nbformat_minor": 4
}
